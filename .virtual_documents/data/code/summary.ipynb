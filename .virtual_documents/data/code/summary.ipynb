import pandas as pd
import pytube


from pytube import Playlist


PLAYLIST_URL = "https://youtu.be/2YY9DT4uDh0?list=PL911pe0HjN9i5wKpJboddKGQyThp2Sv1L"

all_videos_playlist = Playlist(PLAYLIST_URL)


from dataclasses import dataclass, asdict
from tqdm import tqdm

@dataclass
class VideoData:
    title: str
    thumbnail_url: str
    video_url: str
    publication_date: str
    
video_data = []
    
for video, url in tqdm(zip(all_videos_playlist.videos,all_videos_playlist.url_generator())):
    v = VideoData(
        title=video.title,
        thumbnail_url=video.thumbnail_url,
        video_url=url,
        publication_date=video.publish_date
    )
    video_data.append(asdict(v))



df = pd.DataFrame(video_data)
df


df.index.name="id"


# df.index += 1
df


df.to_csv("../ling_summary.csv")


df.index += 1


from pytube import Channel

channel_url = "https://www.youtube.com/channel/UCmpkIzF3xFzhPez7gXOyhVg"

channel = Channel(channel_url)


with open("playlist.html", "w") as f:
    f.write(channel.playlists_html)


df = pd.read_csv("../ling_summary.csv")


df = df.rename(columns={"id": "Id", "title": "Title", "thumbnail_url": "ThumbnailUrl", "video_url": "VideoUrl", "publication_date": "PublicationDate"})


df["IsAnalyzed"] = True
df["Channel"] = "ゆる言語学ラジオ"
df


# df = df.set_index("Id")


# renamed = df.rename(columns={"id": "Id", "title": "Title", "thumbnail_url": "ThumbnailUrl", "video_url": "VideoUrl", "publication_date": "PublicationDate"})
df.to_csv("../ling_summary_processed.csv", index=False)


import os
from dotenv import load_dotenv

load_dotenv()

env = os.getenv("ENV", None)
print(env)


import boto3

db = boto3.resource(
    "dynamodb",
    region_name="ap-northeast-1",
)
table = db.Table("YuruCorpusProd")


data = table.scan()


import os
import pandas as pd
from dotenv import load_dotenv

load_dotenv()

import boto3
from boto3.dynamodb.conditions import Key

db = boto3.resource(
    "dynamodb",
    region_name="ap-northeast-1",
)
table = db.Table("YuruCorpusProd")

from dataclasses import dataclass, asdict

@dataclass
class Item:
    Type: str
    Id: str
    ThumbnailUrl: str
    Title: str
    VideoUrl: str
    PublicationDate: str


for row in df.itertuples():
    item = Item(
        Type="episode",
        Id=str(row.Index),
        ThumbnailUrl=row.thumbnail_url,
        Title=row.title,
        VideoUrl=row.video_url,
        PublicationDate=row.publication_date
    )
    table.delete_item(
        Key={
            "Type": "episode",
            "Id": f"{row.Index}",
        }
    )
    # table.put_item(Item=asdict(item))



