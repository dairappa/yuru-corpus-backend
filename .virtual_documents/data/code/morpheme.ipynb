import os

import numpy as np
import pandas as pd


filenames = os.listdir("../text")


from jaconv import normalize

episode = pd.read_csv("../ling_summary_processed.csv")
episode = episode.set_index("Id")
episode["Title"] = episode["Title"].apply(normalize)
episode


episode.loc[87]





from jaconv import normalize


from tqdm import tqdm

filenames = os.listdir("../text")
# def get_text_filepath(filename: str):
#     cwd = os.getcwd()
#     parent = "/".join(os.getcwd().split("/")[:-1])
#     return os.path.join(parent, filename)

def convert_1d_to_2d(l, cols):
    return [l[i : i + cols] for i in range(0, len(l), cols)]


def read_file(filename: str):
    with open("../text/" + filename, "r") as f:
        lines = f.readlines()[2:-1]
    lines = [line.replace("\n", "") for line in lines if line != "\n"]
    lines_2d = convert_1d_to_2d(lines, 2)
    return lines_2d


def extract_info(line):
    timestamp = line[0].split(".")[0]
    if len(timestamp) == 5:
        timestamp = "00:" + timestamp
    text = line[1]
    # for p in parentheses.itertuples():
    #     text = text.replace(p.text, "")
    # for s in spaces.itertuples():
    #     if text.startswith(s.text +" "):
    #         text = text[len(s)+1:]
    #         break
    # text = text.replace("【", "").replace("】", "")
    return timestamp, text


def get_episode_id(title: str):
    matched = episode[episode["Title"] == normalize(title)]
    if len(matched) == 0:
        raise ValueError(title)
    return matched.index[0]


morphemes = []

for filename in tqdm(filenames):
    if not filename.endswith("vtt"):
        continue
    episode_id = get_episode_id(".".join(filename.split(".")[:-1]))
    # print(filename, episode_id)
    lines = read_file(filename)
    for line in lines:
        timestamp, text = extract_info(line)
        record = {
            "Type": "Morpheme",
            "Id": f"{episode_id}#{timestamp}#0",
            "Token": text,
            "Speaker": ""
        }
        morphemes.append(record)

morphemes_df = pd.DataFrame(morphemes)
morphemes_df = morphemes_df.drop_duplicates(subset=["Id"])
morphemes_df.to_csv("../morphemes.csv", index=False)
morphemes_df


from tqdm import tqdm
spaces = pd.read_csv("../space.csv")
parentheses = pd.read_csv("../【】.csv")

morphemes_df = pd.read_csv("../morphemes.csv")

for space in tqdm(spaces.itertuples()):
    def retrieve(token: str):
        if token.startswith(space.text):
            return token[len(space)+1:]
        return token
    
    morphemes_df["Token"] = np.vectorize(retrieve)(morphemes_df["Token"])


for space in tqdm(parentheses.itertuples()):
    def retrieve(token: str):
        return token.replace(space.text, "")

    morphemes_df["Token"] = np.vectorize(retrieve)(morphemes_df["Token"])


def retrieve(token: str):
        return token.replace("】", "").replace("【", "")


morphemes_df["Token"] = np.vectorize(retrieve)(morphemes_df["Token"])
morphemes_df = morphemes_df[morphemes_df["Token"] != ""]
morphemes_df["Speaker"] = ""
morphemes_df = morphemes_df.sort_values("Id")
morphemes_df


morphemes_df["Speaker"] = ""
morphemes_df = morphemes_df.sort_values("Id")
morphemes_df.to_csv("../morphemes_processed.csv", index=False)


morphemes_df[morphemes_df["Id"].str.startswith("1#")].to_csv("../test/morphemes_processed.csv", index=False)


morphemes_df = morphemes_df[morphemes_df["Token"] == ""]


err


all = []
for row in morphemes_df["Token"].str.findall("【.*?】"):
    all.extend([morpheme for morpheme in row])
all = pd.DataFrame(all)
count = all.value_counts()
count = count[count != 1]
count.to_csv("../【】_result.csv")
count


space = morphemes_df["Token"].str.split(" ", expand=True)[0].value_counts()
space = space[space > 99]
space.to_csv("../space_result.csv")
space


morphemes_df[morphemes_df["Token"].str.startswith("学習")].to_csv("学習.csv")


import os

import pandas as pd
from dotenv import load_dotenv

load_dotenv()

import boto3

db = boto3.resource(
    "dynamodb",
    # region_name="ap-northeast-1",
    endpoint_url="http://dynamodb-local:8000",
)

table = db.Table("YuruCorpusTest")


df = pd.read_csv("data/morphemes.csv")

from dataclasses import asdict, dataclass


@dataclass
class Item:
    Type: str
    Id: str
    Token: str
    Speaker: str


for row in df.itertuples():
    item = Item(Type="morpheme", Id=str(row.Id), Token=row.Token, Speaker="")
    table.put_item(Item=asdict(item))


df = pd.read_csv("../morphemes_processed.csv")
dev_df = df[df["Id"].str.startswith("1#")]
dev_df.to_csv("../dev/morphemes_processed.csv")



